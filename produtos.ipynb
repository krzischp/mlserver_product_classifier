{
 "cells": [
  {
   "cell_type": "markdown",
   "metadata": {},
   "source": [
    "# Documentation"
   ]
  },
  {
   "cell_type": "markdown",
   "metadata": {},
   "source": [
    "# Sample"
   ]
  },
  {
   "cell_type": "code",
   "execution_count": 1,
   "metadata": {},
   "outputs": [
    {
     "name": "stdout",
     "output_type": "stream",
     "text": [
      "Requirement already satisfied: nltk in /Users/pierre.krzisch/.pyenv/versions/3.10.2/envs/jupyter-dev/lib/python3.10/site-packages (3.7)\n",
      "Requirement already satisfied: tqdm in /Users/pierre.krzisch/.pyenv/versions/3.10.2/envs/jupyter-dev/lib/python3.10/site-packages (from nltk) (4.64.0)\n",
      "Requirement already satisfied: click in /Users/pierre.krzisch/.pyenv/versions/3.10.2/envs/jupyter-dev/lib/python3.10/site-packages (from nltk) (8.1.3)\n",
      "Requirement already satisfied: joblib in /Users/pierre.krzisch/.pyenv/versions/3.10.2/envs/jupyter-dev/lib/python3.10/site-packages (from nltk) (1.1.0)\n",
      "Requirement already satisfied: regex>=2021.8.3 in /Users/pierre.krzisch/.pyenv/versions/3.10.2/envs/jupyter-dev/lib/python3.10/site-packages (from nltk) (2022.4.24)\n",
      "\u001b[33mWARNING: You are using pip version 21.2.4; however, version 22.1.1 is available.\n",
      "You should consider upgrading via the '/Users/pierre.krzisch/.pyenv/versions/3.10.2/envs/jupyter-dev/bin/python3.10 -m pip install --upgrade pip' command.\u001b[0m\n",
      "Requirement already satisfied: matplotlib in /Users/pierre.krzisch/.pyenv/versions/3.10.2/envs/jupyter-dev/lib/python3.10/site-packages (3.5.2)\n",
      "Requirement already satisfied: pillow>=6.2.0 in /Users/pierre.krzisch/.pyenv/versions/3.10.2/envs/jupyter-dev/lib/python3.10/site-packages (from matplotlib) (9.1.0)\n",
      "Requirement already satisfied: fonttools>=4.22.0 in /Users/pierre.krzisch/.pyenv/versions/3.10.2/envs/jupyter-dev/lib/python3.10/site-packages (from matplotlib) (4.33.3)\n",
      "Requirement already satisfied: kiwisolver>=1.0.1 in /Users/pierre.krzisch/.pyenv/versions/3.10.2/envs/jupyter-dev/lib/python3.10/site-packages (from matplotlib) (1.4.2)\n",
      "Requirement already satisfied: numpy>=1.17 in /Users/pierre.krzisch/.pyenv/versions/3.10.2/envs/jupyter-dev/lib/python3.10/site-packages (from matplotlib) (1.22.3)\n",
      "Requirement already satisfied: pyparsing>=2.2.1 in /Users/pierre.krzisch/.pyenv/versions/3.10.2/envs/jupyter-dev/lib/python3.10/site-packages (from matplotlib) (3.0.8)\n",
      "Requirement already satisfied: cycler>=0.10 in /Users/pierre.krzisch/.pyenv/versions/3.10.2/envs/jupyter-dev/lib/python3.10/site-packages (from matplotlib) (0.11.0)\n",
      "Requirement already satisfied: python-dateutil>=2.7 in /Users/pierre.krzisch/.pyenv/versions/3.10.2/envs/jupyter-dev/lib/python3.10/site-packages (from matplotlib) (2.8.2)\n",
      "Requirement already satisfied: packaging>=20.0 in /Users/pierre.krzisch/.pyenv/versions/3.10.2/envs/jupyter-dev/lib/python3.10/site-packages (from matplotlib) (21.3)\n",
      "Requirement already satisfied: six>=1.5 in /Users/pierre.krzisch/.pyenv/versions/3.10.2/envs/jupyter-dev/lib/python3.10/site-packages (from python-dateutil>=2.7->matplotlib) (1.16.0)\n",
      "\u001b[33mWARNING: You are using pip version 21.2.4; however, version 22.1.1 is available.\n",
      "You should consider upgrading via the '/Users/pierre.krzisch/.pyenv/versions/3.10.2/envs/jupyter-dev/bin/python3.10 -m pip install --upgrade pip' command.\u001b[0m\n",
      "Requirement already satisfied: seaborn in /Users/pierre.krzisch/.pyenv/versions/3.10.2/envs/jupyter-dev/lib/python3.10/site-packages (0.11.2)\n",
      "Requirement already satisfied: pandas>=0.23 in /Users/pierre.krzisch/.pyenv/versions/3.10.2/envs/jupyter-dev/lib/python3.10/site-packages (from seaborn) (1.4.2)\n",
      "Requirement already satisfied: matplotlib>=2.2 in /Users/pierre.krzisch/.pyenv/versions/3.10.2/envs/jupyter-dev/lib/python3.10/site-packages (from seaborn) (3.5.2)\n",
      "Requirement already satisfied: scipy>=1.0 in /Users/pierre.krzisch/.pyenv/versions/3.10.2/envs/jupyter-dev/lib/python3.10/site-packages (from seaborn) (1.8.0)\n",
      "Requirement already satisfied: numpy>=1.15 in /Users/pierre.krzisch/.pyenv/versions/3.10.2/envs/jupyter-dev/lib/python3.10/site-packages (from seaborn) (1.22.3)\n",
      "Requirement already satisfied: packaging>=20.0 in /Users/pierre.krzisch/.pyenv/versions/3.10.2/envs/jupyter-dev/lib/python3.10/site-packages (from matplotlib>=2.2->seaborn) (21.3)\n",
      "Requirement already satisfied: cycler>=0.10 in /Users/pierre.krzisch/.pyenv/versions/3.10.2/envs/jupyter-dev/lib/python3.10/site-packages (from matplotlib>=2.2->seaborn) (0.11.0)\n",
      "Requirement already satisfied: python-dateutil>=2.7 in /Users/pierre.krzisch/.pyenv/versions/3.10.2/envs/jupyter-dev/lib/python3.10/site-packages (from matplotlib>=2.2->seaborn) (2.8.2)\n",
      "Requirement already satisfied: pyparsing>=2.2.1 in /Users/pierre.krzisch/.pyenv/versions/3.10.2/envs/jupyter-dev/lib/python3.10/site-packages (from matplotlib>=2.2->seaborn) (3.0.8)\n",
      "Requirement already satisfied: pillow>=6.2.0 in /Users/pierre.krzisch/.pyenv/versions/3.10.2/envs/jupyter-dev/lib/python3.10/site-packages (from matplotlib>=2.2->seaborn) (9.1.0)\n",
      "Requirement already satisfied: kiwisolver>=1.0.1 in /Users/pierre.krzisch/.pyenv/versions/3.10.2/envs/jupyter-dev/lib/python3.10/site-packages (from matplotlib>=2.2->seaborn) (1.4.2)\n",
      "Requirement already satisfied: fonttools>=4.22.0 in /Users/pierre.krzisch/.pyenv/versions/3.10.2/envs/jupyter-dev/lib/python3.10/site-packages (from matplotlib>=2.2->seaborn) (4.33.3)\n",
      "Requirement already satisfied: pytz>=2020.1 in /Users/pierre.krzisch/.pyenv/versions/3.10.2/envs/jupyter-dev/lib/python3.10/site-packages (from pandas>=0.23->seaborn) (2022.1)\n",
      "Requirement already satisfied: six>=1.5 in /Users/pierre.krzisch/.pyenv/versions/3.10.2/envs/jupyter-dev/lib/python3.10/site-packages (from python-dateutil>=2.7->matplotlib>=2.2->seaborn) (1.16.0)\n",
      "\u001b[33mWARNING: You are using pip version 21.2.4; however, version 22.1.1 is available.\n",
      "You should consider upgrading via the '/Users/pierre.krzisch/.pyenv/versions/3.10.2/envs/jupyter-dev/bin/python3.10 -m pip install --upgrade pip' command.\u001b[0m\n",
      "Requirement already satisfied: sklearn in /Users/pierre.krzisch/.pyenv/versions/3.10.2/envs/jupyter-dev/lib/python3.10/site-packages (0.0)\n",
      "Requirement already satisfied: scikit-learn in /Users/pierre.krzisch/.pyenv/versions/3.10.2/envs/jupyter-dev/lib/python3.10/site-packages (from sklearn) (1.1.0)\n",
      "Requirement already satisfied: threadpoolctl>=2.0.0 in /Users/pierre.krzisch/.pyenv/versions/3.10.2/envs/jupyter-dev/lib/python3.10/site-packages (from scikit-learn->sklearn) (3.1.0)\n",
      "Requirement already satisfied: joblib>=1.0.0 in /Users/pierre.krzisch/.pyenv/versions/3.10.2/envs/jupyter-dev/lib/python3.10/site-packages (from scikit-learn->sklearn) (1.1.0)\n",
      "Requirement already satisfied: scipy>=1.3.2 in /Users/pierre.krzisch/.pyenv/versions/3.10.2/envs/jupyter-dev/lib/python3.10/site-packages (from scikit-learn->sklearn) (1.8.0)\n",
      "Requirement already satisfied: numpy>=1.17.3 in /Users/pierre.krzisch/.pyenv/versions/3.10.2/envs/jupyter-dev/lib/python3.10/site-packages (from scikit-learn->sklearn) (1.22.3)\n",
      "\u001b[33mWARNING: You are using pip version 21.2.4; however, version 22.1.1 is available.\n",
      "You should consider upgrading via the '/Users/pierre.krzisch/.pyenv/versions/3.10.2/envs/jupyter-dev/bin/python3.10 -m pip install --upgrade pip' command.\u001b[0m\n",
      "Requirement already satisfied: unidecode in /Users/pierre.krzisch/.pyenv/versions/3.10.2/envs/jupyter-dev/lib/python3.10/site-packages (1.3.4)\n",
      "\u001b[33mWARNING: You are using pip version 21.2.4; however, version 22.1.1 is available.\n",
      "You should consider upgrading via the '/Users/pierre.krzisch/.pyenv/versions/3.10.2/envs/jupyter-dev/bin/python3.10 -m pip install --upgrade pip' command.\u001b[0m\n"
     ]
    }
   ],
   "source": [
    "import sys \n",
    "!{sys.executable} -m pip install nltk \n",
    "!{sys.executable} -m pip install matplotlib\n",
    "!{sys.executable} -m pip install seaborn\n",
    "!{sys.executable} -m pip install sklearn\n",
    "!{sys.executable} -m pip install unidecode"
   ]
  },
  {
   "cell_type": "code",
   "execution_count": 2,
   "metadata": {
    "marvin_cell": "acquisitor"
   },
   "outputs": [
    {
     "name": "stderr",
     "output_type": "stream",
     "text": [
      "[nltk_data] Downloading package stopwords to\n",
      "[nltk_data]     /Users/pierre.krzisch/nltk_data...\n",
      "[nltk_data]   Package stopwords is already up-to-date!\n"
     ]
    },
    {
     "data": {
      "text/html": [
       "<div>\n",
       "<style scoped>\n",
       "    .dataframe tbody tr th:only-of-type {\n",
       "        vertical-align: middle;\n",
       "    }\n",
       "\n",
       "    .dataframe tbody tr th {\n",
       "        vertical-align: top;\n",
       "    }\n",
       "\n",
       "    .dataframe thead th {\n",
       "        text-align: right;\n",
       "    }\n",
       "</style>\n",
       "<table border=\"1\" class=\"dataframe\">\n",
       "  <thead>\n",
       "    <tr style=\"text-align: right;\">\n",
       "      <th></th>\n",
       "      <th>categoria</th>\n",
       "      <th>tokens</th>\n",
       "      <th>strings</th>\n",
       "    </tr>\n",
       "  </thead>\n",
       "  <tbody>\n",
       "    <tr>\n",
       "      <th>0</th>\n",
       "      <td>livro</td>\n",
       "      <td>[hobbit, 7a, ed, 2013, produto, novobilbo, bol...</td>\n",
       "      <td>hobbit 7a ed 2013 produto novobilbo bolseiro h...</td>\n",
       "    </tr>\n",
       "    <tr>\n",
       "      <th>1</th>\n",
       "      <td>livro</td>\n",
       "      <td>[livro, it, coisa, stephen, king, produto, nov...</td>\n",
       "      <td>livro it coisa stephen king produto novodurant...</td>\n",
       "    </tr>\n",
       "    <tr>\n",
       "      <th>2</th>\n",
       "      <td>livro</td>\n",
       "      <td>[box, cronicas, gelo, fogo, pocket, 5, livros,...</td>\n",
       "      <td>box cronicas gelo fogo pocket 5 livros produto...</td>\n",
       "    </tr>\n",
       "    <tr>\n",
       "      <th>3</th>\n",
       "      <td>livro</td>\n",
       "      <td>[box, harry, potter, produto, novo, fisico, se...</td>\n",
       "      <td>box harry potter produto novo fisico serie har...</td>\n",
       "    </tr>\n",
       "    <tr>\n",
       "      <th>4</th>\n",
       "      <td>livro</td>\n",
       "      <td>[livro, origem, dan, brown, produto, novode, o...</td>\n",
       "      <td>livro origem dan brown produto novode onde vie...</td>\n",
       "    </tr>\n",
       "  </tbody>\n",
       "</table>\n",
       "</div>"
      ],
      "text/plain": [
       "  categoria                                             tokens  \\\n",
       "0     livro  [hobbit, 7a, ed, 2013, produto, novobilbo, bol...   \n",
       "1     livro  [livro, it, coisa, stephen, king, produto, nov...   \n",
       "2     livro  [box, cronicas, gelo, fogo, pocket, 5, livros,...   \n",
       "3     livro  [box, harry, potter, produto, novo, fisico, se...   \n",
       "4     livro  [livro, origem, dan, brown, produto, novode, o...   \n",
       "\n",
       "                                             strings  \n",
       "0  hobbit 7a ed 2013 produto novobilbo bolseiro h...  \n",
       "1  livro it coisa stephen king produto novodurant...  \n",
       "2  box cronicas gelo fogo pocket 5 livros produto...  \n",
       "3  box harry potter produto novo fisico serie har...  \n",
       "4  livro origem dan brown produto novode onde vie...  "
      ]
     },
     "execution_count": 2,
     "metadata": {},
     "output_type": "execute_result"
    }
   ],
   "source": [
    "import pandas as pd\n",
    "import nltk\n",
    "from nltk.corpus import stopwords\n",
    "from unidecode import unidecode\n",
    "\n",
    "nltk.download('stopwords')\n",
    "\n",
    "products_data = pd.read_csv(\"produtos.csv\", delimiter=';', encoding='utf-8')\n",
    "\n",
    "# concatenando as colunas nome e descricao\n",
    "products_data['informacao'] = products_data['nome'] + products_data['descricao']\n",
    "# excluindo linhas com valor de informacao ou categoria NaN\n",
    "products_data.dropna(subset=['informacao', 'categoria'], inplace=True)\n",
    "products_data.drop(columns=['nome', 'descricao'], inplace=True)\n",
    "\n",
    "stop_words=set(stopwords.words(\"portuguese\"))\n",
    "# transforma a string em caixa baixa e remove stopwords\n",
    "products_data['sem_stopwords'] = products_data['informacao'].str.lower().apply(lambda x: ' '.join([unidecode(word) for word in x.split() if word not in (stop_words)]))\n",
    "\n",
    "tokenizer = nltk.RegexpTokenizer(r\"\\w+\")\n",
    "products_data['tokens'] = products_data['sem_stopwords'].apply(tokenizer.tokenize) # aplica o regex tokenizer\n",
    "products_data.drop(columns=['sem_stopwords','informacao'],inplace=True) # Exclui as colunas antigas\n",
    "\n",
    "products_data[\"strings\"]= products_data[\"tokens\"].str.join(\" \") # reunindo cada elemento da lista\n",
    "products_data.head()"
   ]
  },
  {
   "cell_type": "code",
   "execution_count": 3,
   "metadata": {
    "marvin_cell": "tpreparator"
   },
   "outputs": [],
   "source": [
    "from sklearn.feature_extraction.text import CountVectorizer\n",
    "from sklearn.naive_bayes import MultinomialNB\n",
    "from sklearn.model_selection import train_test_split\n",
    "from sklearn.pipeline import Pipeline\n",
    "\n",
    "X_train,X_test,y_train,y_test = train_test_split( # Separação dos dados para teste e treino\n",
    "    products_data[\"strings\"], \n",
    "    products_data[\"categoria\"], \n",
    "    test_size = 0.2, \n",
    "    random_state = 10\n",
    ")\n",
    "\n",
    "pipe = Pipeline([('vetorizador', CountVectorizer()), (\"classificador\", MultinomialNB())])"
   ]
  },
  {
   "cell_type": "code",
   "execution_count": 4,
   "metadata": {
    "marvin_cell": "trainer"
   },
   "outputs": [
    {
     "data": {
      "text/html": [
       "<style>#sk-container-id-1 {color: black;background-color: white;}#sk-container-id-1 pre{padding: 0;}#sk-container-id-1 div.sk-toggleable {background-color: white;}#sk-container-id-1 label.sk-toggleable__label {cursor: pointer;display: block;width: 100%;margin-bottom: 0;padding: 0.3em;box-sizing: border-box;text-align: center;}#sk-container-id-1 label.sk-toggleable__label-arrow:before {content: \"▸\";float: left;margin-right: 0.25em;color: #696969;}#sk-container-id-1 label.sk-toggleable__label-arrow:hover:before {color: black;}#sk-container-id-1 div.sk-estimator:hover label.sk-toggleable__label-arrow:before {color: black;}#sk-container-id-1 div.sk-toggleable__content {max-height: 0;max-width: 0;overflow: hidden;text-align: left;background-color: #f0f8ff;}#sk-container-id-1 div.sk-toggleable__content pre {margin: 0.2em;color: black;border-radius: 0.25em;background-color: #f0f8ff;}#sk-container-id-1 input.sk-toggleable__control:checked~div.sk-toggleable__content {max-height: 200px;max-width: 100%;overflow: auto;}#sk-container-id-1 input.sk-toggleable__control:checked~label.sk-toggleable__label-arrow:before {content: \"▾\";}#sk-container-id-1 div.sk-estimator input.sk-toggleable__control:checked~label.sk-toggleable__label {background-color: #d4ebff;}#sk-container-id-1 div.sk-label input.sk-toggleable__control:checked~label.sk-toggleable__label {background-color: #d4ebff;}#sk-container-id-1 input.sk-hidden--visually {border: 0;clip: rect(1px 1px 1px 1px);clip: rect(1px, 1px, 1px, 1px);height: 1px;margin: -1px;overflow: hidden;padding: 0;position: absolute;width: 1px;}#sk-container-id-1 div.sk-estimator {font-family: monospace;background-color: #f0f8ff;border: 1px dotted black;border-radius: 0.25em;box-sizing: border-box;margin-bottom: 0.5em;}#sk-container-id-1 div.sk-estimator:hover {background-color: #d4ebff;}#sk-container-id-1 div.sk-parallel-item::after {content: \"\";width: 100%;border-bottom: 1px solid gray;flex-grow: 1;}#sk-container-id-1 div.sk-label:hover label.sk-toggleable__label {background-color: #d4ebff;}#sk-container-id-1 div.sk-serial::before {content: \"\";position: absolute;border-left: 1px solid gray;box-sizing: border-box;top: 0;bottom: 0;left: 50%;z-index: 0;}#sk-container-id-1 div.sk-serial {display: flex;flex-direction: column;align-items: center;background-color: white;padding-right: 0.2em;padding-left: 0.2em;position: relative;}#sk-container-id-1 div.sk-item {position: relative;z-index: 1;}#sk-container-id-1 div.sk-parallel {display: flex;align-items: stretch;justify-content: center;background-color: white;position: relative;}#sk-container-id-1 div.sk-item::before, #sk-container-id-1 div.sk-parallel-item::before {content: \"\";position: absolute;border-left: 1px solid gray;box-sizing: border-box;top: 0;bottom: 0;left: 50%;z-index: -1;}#sk-container-id-1 div.sk-parallel-item {display: flex;flex-direction: column;z-index: 1;position: relative;background-color: white;}#sk-container-id-1 div.sk-parallel-item:first-child::after {align-self: flex-end;width: 50%;}#sk-container-id-1 div.sk-parallel-item:last-child::after {align-self: flex-start;width: 50%;}#sk-container-id-1 div.sk-parallel-item:only-child::after {width: 0;}#sk-container-id-1 div.sk-dashed-wrapped {border: 1px dashed gray;margin: 0 0.4em 0.5em 0.4em;box-sizing: border-box;padding-bottom: 0.4em;background-color: white;}#sk-container-id-1 div.sk-label label {font-family: monospace;font-weight: bold;display: inline-block;line-height: 1.2em;}#sk-container-id-1 div.sk-label-container {text-align: center;}#sk-container-id-1 div.sk-container {/* jupyter's `normalize.less` sets `[hidden] { display: none; }` but bootstrap.min.css set `[hidden] { display: none !important; }` so we also need the `!important` here to be able to override the default hidden behavior on the sphinx rendered scikit-learn.org. See: https://github.com/scikit-learn/scikit-learn/issues/21755 */display: inline-block !important;position: relative;}#sk-container-id-1 div.sk-text-repr-fallback {display: none;}</style><div id=\"sk-container-id-1\" class=\"sk-top-container\"><div class=\"sk-text-repr-fallback\"><pre>Pipeline(steps=[(&#x27;vetorizador&#x27;, CountVectorizer()),\n",
       "                (&#x27;classificador&#x27;, MultinomialNB())])</pre><b>In a Jupyter environment, please rerun this cell to show the HTML representation or trust the notebook. <br />On GitHub, the HTML representation is unable to render, please try loading this page with nbviewer.org.</b></div><div class=\"sk-container\" hidden><div class=\"sk-item sk-dashed-wrapped\"><div class=\"sk-label-container\"><div class=\"sk-label sk-toggleable\"><input class=\"sk-toggleable__control sk-hidden--visually\" id=\"sk-estimator-id-1\" type=\"checkbox\" ><label for=\"sk-estimator-id-1\" class=\"sk-toggleable__label sk-toggleable__label-arrow\">Pipeline</label><div class=\"sk-toggleable__content\"><pre>Pipeline(steps=[(&#x27;vetorizador&#x27;, CountVectorizer()),\n",
       "                (&#x27;classificador&#x27;, MultinomialNB())])</pre></div></div></div><div class=\"sk-serial\"><div class=\"sk-item\"><div class=\"sk-estimator sk-toggleable\"><input class=\"sk-toggleable__control sk-hidden--visually\" id=\"sk-estimator-id-2\" type=\"checkbox\" ><label for=\"sk-estimator-id-2\" class=\"sk-toggleable__label sk-toggleable__label-arrow\">CountVectorizer</label><div class=\"sk-toggleable__content\"><pre>CountVectorizer()</pre></div></div></div><div class=\"sk-item\"><div class=\"sk-estimator sk-toggleable\"><input class=\"sk-toggleable__control sk-hidden--visually\" id=\"sk-estimator-id-3\" type=\"checkbox\" ><label for=\"sk-estimator-id-3\" class=\"sk-toggleable__label sk-toggleable__label-arrow\">MultinomialNB</label><div class=\"sk-toggleable__content\"><pre>MultinomialNB()</pre></div></div></div></div></div></div></div>"
      ],
      "text/plain": [
       "Pipeline(steps=[('vetorizador', CountVectorizer()),\n",
       "                ('classificador', MultinomialNB())])"
      ]
     },
     "execution_count": 4,
     "metadata": {},
     "output_type": "execute_result"
    }
   ],
   "source": [
    "pipe.fit(X_train, y_train)"
   ]
  },
  {
   "cell_type": "code",
   "execution_count": 5,
   "metadata": {
    "marvin_cell": "evaluator"
   },
   "outputs": [],
   "source": [
    "from sklearn.metrics import accuracy_score\n",
    "from sklearn import metrics\n",
    "\n",
    "y_prediction = pipe.predict(X_test)\n",
    "accuracy = accuracy_score(y_prediction, y_test)"
   ]
  },
  {
   "cell_type": "code",
   "execution_count": 6,
   "metadata": {},
   "outputs": [],
   "source": [
    "input_message = [\"Figura Transformers Prime War Deluxe - E9687 - Hasbro\",  \"Senhor dos aneis\", \"Senhor dos anéis\"]"
   ]
  },
  {
   "cell_type": "code",
   "execution_count": 8,
   "metadata": {
    "marvin_cell": "predictor"
   },
   "outputs": [
    {
     "name": "stdout",
     "output_type": "stream",
     "text": [
      "Predicted values:\n",
      "brinquedo,livro,livro\n"
     ]
    },
    {
     "data": {
      "text/plain": [
       "['classificador-produtos-1.1.joblib']"
      ]
     },
     "execution_count": 8,
     "metadata": {},
     "output_type": "execute_result"
    }
   ],
   "source": [
    "import joblib\n",
    "\n",
    "final_prediction = pipe.predict(input_message)\n",
    "print(\"Predicted values:\")\n",
    "print(\",\".join(final_prediction))\n",
    "\n",
    "# joblib.dump(pipe, \"classificador-produtos-1.0.joblib\")\n",
    "joblib.dump(pipe, \"classificador-produtos-1.1.joblib\")"
   ]
  },
  {
   "cell_type": "code",
   "execution_count": null,
   "metadata": {},
   "outputs": [],
   "source": []
  }
 ],
 "metadata": {
  "kernelspec": {
   "display_name": "Python 3 (ipykernel)",
   "language": "python",
   "name": "python3"
  },
  "language_info": {
   "codemirror_mode": {
    "name": "ipython",
    "version": 3
   },
   "file_extension": ".py",
   "mimetype": "text/x-python",
   "name": "python",
   "nbconvert_exporter": "python",
   "pygments_lexer": "ipython3",
   "version": "3.10.2"
  }
 },
 "nbformat": 4,
 "nbformat_minor": 1
}
