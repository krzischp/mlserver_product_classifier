{
 "cells": [
  {
   "cell_type": "code",
   "execution_count": 1,
   "id": "75f3d8e2",
   "metadata": {},
   "outputs": [],
   "source": [
    "import numpy as np\n",
    "from sklearn import datasets\n",
    "from sklearn.metrics import accuracy_score\n",
    "import joblib\n",
    "\n",
    "iris = datasets.load_iris()\n",
    "x = iris.data\n",
    "y = iris.target\n",
    "y_names = iris.target_names\n",
    "\n",
    "np.random.seed(26322)\n",
    "test_ids = np.random.permutation(len(x))\n",
    "\n",
    "x_train = x[test_ids[:-10]]\n",
    "x_test = x[test_ids[-10:]]\n",
    "\n",
    "y_train = y[test_ids[:-10]]\n",
    "y_test = y[test_ids[-10:]]"
   ]
  },
  {
   "cell_type": "markdown",
   "id": "e7e77a19",
   "metadata": {},
   "source": [
    "# Árvore de decisão"
   ]
  },
  {
   "cell_type": "code",
   "execution_count": 2,
   "id": "2eb6d08c",
   "metadata": {},
   "outputs": [
    {
     "name": "stdout",
     "output_type": "stream",
     "text": [
      "[0 2 0 1 0 0 2 1 0 2]\n",
      "[0 2 0 1 0 0 2 1 0 2]\n",
      "100.0\n"
     ]
    },
    {
     "data": {
      "text/plain": [
       "['iris_dtc_1.0.joblib']"
      ]
     },
     "execution_count": 2,
     "metadata": {},
     "output_type": "execute_result"
    }
   ],
   "source": [
    "from sklearn import tree\n",
    "dtc = tree.DecisionTreeClassifier()\n",
    "dtc.fit(x_train, y_train)\n",
    "pred = dtc.predict(x_test)\n",
    "print(pred)\n",
    "print(y_test)\n",
    "print((accuracy_score(pred, y_test))*100)\n",
    "joblib.dump(dtc, \"iris_dtc_1.0.joblib\")"
   ]
  },
  {
   "cell_type": "markdown",
   "id": "0c666ba7",
   "metadata": {},
   "source": [
    "# Naive Bayes"
   ]
  },
  {
   "cell_type": "code",
   "execution_count": 3,
   "id": "c6f70b8d",
   "metadata": {},
   "outputs": [
    {
     "name": "stdout",
     "output_type": "stream",
     "text": [
      "[0 2 0 1 0 0 2 2 0 2]\n",
      "[0 2 0 1 0 0 2 1 0 2]\n",
      "90.0\n"
     ]
    },
    {
     "data": {
      "text/plain": [
       "['iris_gnb_1.0.joblib']"
      ]
     },
     "execution_count": 3,
     "metadata": {},
     "output_type": "execute_result"
    }
   ],
   "source": [
    "from sklearn.naive_bayes import GaussianNB\n",
    "gnb = GaussianNB()\n",
    "gnb.fit(x_train, y_train)\n",
    "pred = gnb.predict(x_test)\n",
    "print(pred)\n",
    "print(y_test)\n",
    "print((accuracy_score(pred, y_test))*100)\n",
    "joblib.dump(gnb, \"iris_gnb_1.0.joblib\")"
   ]
  },
  {
   "cell_type": "markdown",
   "id": "2d9a4890",
   "metadata": {},
   "source": [
    "# LDA"
   ]
  },
  {
   "cell_type": "code",
   "execution_count": 4,
   "id": "97011fa8",
   "metadata": {},
   "outputs": [
    {
     "name": "stdout",
     "output_type": "stream",
     "text": [
      "[0 2 0 1 0 0 2 1 0 2]\n",
      "[0 2 0 1 0 0 2 1 0 2]\n",
      "100.0\n"
     ]
    },
    {
     "data": {
      "text/plain": [
       "['iris_lda_1.0.joblib']"
      ]
     },
     "execution_count": 4,
     "metadata": {},
     "output_type": "execute_result"
    }
   ],
   "source": [
    "from sklearn.discriminant_analysis import LinearDiscriminantAnalysis\n",
    "lda = LinearDiscriminantAnalysis()\n",
    "lda.fit(x_train, y_train)\n",
    "pred = lda.predict(x_test)\n",
    "print(pred)\n",
    "print(y_test)\n",
    "print((accuracy_score(pred, y_test))*100)\n",
    "joblib.dump(lda, \"iris_lda_1.0.joblib\")"
   ]
  },
  {
   "cell_type": "markdown",
   "id": "8b7dfabe",
   "metadata": {},
   "source": [
    "# QDA"
   ]
  },
  {
   "cell_type": "code",
   "execution_count": 5,
   "id": "b3640524",
   "metadata": {},
   "outputs": [
    {
     "name": "stdout",
     "output_type": "stream",
     "text": [
      "[0 2 0 1 0 0 2 1 0 2]\n",
      "[0 2 0 1 0 0 2 1 0 2]\n",
      "100.0\n"
     ]
    },
    {
     "data": {
      "text/plain": [
       "['iris_qda_1.0.joblib']"
      ]
     },
     "execution_count": 5,
     "metadata": {},
     "output_type": "execute_result"
    }
   ],
   "source": [
    "from sklearn.discriminant_analysis import QuadraticDiscriminantAnalysis\n",
    "qda = QuadraticDiscriminantAnalysis()\n",
    "qda.fit(x_train, y_train)\n",
    "pred = qda.predict(x_test)\n",
    "print(pred)\n",
    "print(y_test)\n",
    "print((accuracy_score(pred, y_test))*100)\n",
    "joblib.dump(qda, \"iris_qda_1.0.joblib\")"
   ]
  },
  {
   "cell_type": "markdown",
   "id": "a2c4ac93",
   "metadata": {},
   "source": [
    "# KNN"
   ]
  },
  {
   "cell_type": "code",
   "execution_count": 6,
   "id": "9d8ad41e",
   "metadata": {},
   "outputs": [
    {
     "name": "stdout",
     "output_type": "stream",
     "text": [
      "[0 2 0 1 0 0 2 1 0 2]\n",
      "[0 2 0 1 0 0 2 1 0 2]\n",
      "100.0\n"
     ]
    },
    {
     "data": {
      "text/plain": [
       "['iris_knc_1.0.joblib']"
      ]
     },
     "execution_count": 6,
     "metadata": {},
     "output_type": "execute_result"
    }
   ],
   "source": [
    "from sklearn.neighbors import KNeighborsClassifier\n",
    "knc = KNeighborsClassifier(n_neighbors=5)\n",
    "knc.fit(x_train, y_train)\n",
    "pred = knc.predict(x_test)\n",
    "print(pred)\n",
    "print(y_test)\n",
    "print((accuracy_score(pred, y_test))*100)\n",
    "joblib.dump(knc, \"iris_knc_1.0.joblib\")"
   ]
  },
  {
   "cell_type": "markdown",
   "id": "2a2533a7",
   "metadata": {},
   "source": [
    "# SVM"
   ]
  },
  {
   "cell_type": "code",
   "execution_count": 7,
   "id": "c82d4307",
   "metadata": {},
   "outputs": [
    {
     "name": "stdout",
     "output_type": "stream",
     "text": [
      "[0 2 0 1 0 0 2 1 0 2]\n",
      "[0 2 0 1 0 0 2 1 0 2]\n",
      "100.0\n"
     ]
    },
    {
     "data": {
      "text/plain": [
       "['iris_svc_1.0.joblib']"
      ]
     },
     "execution_count": 7,
     "metadata": {},
     "output_type": "execute_result"
    }
   ],
   "source": [
    "from sklearn.svm import SVC\n",
    "svc = SVC(kernel='linear')\n",
    "svc.fit(x_train, y_train)\n",
    "pred = svc.predict(x_test)\n",
    "print(pred)\n",
    "print(y_test)\n",
    "print((accuracy_score(pred, y_test))*100)\n",
    "joblib.dump(svc, \"iris_svc_1.0.joblib\")"
   ]
  },
  {
   "cell_type": "markdown",
   "id": "24529ed3",
   "metadata": {},
   "source": [
    "# Regressão logística"
   ]
  },
  {
   "cell_type": "code",
   "execution_count": 8,
   "id": "5301c0b6",
   "metadata": {},
   "outputs": [
    {
     "name": "stdout",
     "output_type": "stream",
     "text": [
      "[0 2 0 1 0 0 2 1 0 2]\n",
      "[0 2 0 1 0 0 2 1 0 2]\n",
      "100.0\n"
     ]
    },
    {
     "data": {
      "text/plain": [
       "['iris_lr_1.0.joblib']"
      ]
     },
     "execution_count": 8,
     "metadata": {},
     "output_type": "execute_result"
    }
   ],
   "source": [
    "from sklearn.linear_model import LogisticRegression\n",
    "lr = LogisticRegression(solver='newton-cg')\n",
    "lr.fit(x_train, y_train)\n",
    "pred = lr.predict(x_test)\n",
    "print(pred)\n",
    "print(y_test)\n",
    "print((accuracy_score(pred, y_test))*100)\n",
    "joblib.dump(lr, \"iris_lr_1.0.joblib\")"
   ]
  },
  {
   "cell_type": "code",
   "execution_count": null,
   "id": "3160f567",
   "metadata": {},
   "outputs": [],
   "source": []
  }
 ],
 "metadata": {
  "kernelspec": {
   "display_name": "Python 3 (ipykernel)",
   "language": "python",
   "name": "python3"
  },
  "language_info": {
   "codemirror_mode": {
    "name": "ipython",
    "version": 3
   },
   "file_extension": ".py",
   "mimetype": "text/x-python",
   "name": "python",
   "nbconvert_exporter": "python",
   "pygments_lexer": "ipython3",
   "version": "3.10.2"
  }
 },
 "nbformat": 4,
 "nbformat_minor": 5
}
